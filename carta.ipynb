{
 "cells": [
  {
   "cell_type": "code",
   "execution_count": 2,
   "id": "aa6ee4d9-12ba-433d-ba52-665736b29187",
   "metadata": {},
   "outputs": [
    {
     "name": "stdin",
     "output_type": "stream",
     "text": [
      "ingrese su nombre: sebastian \n",
      "ingrese su edad: 19\n"
     ]
    }
   ],
   "source": []
  },
  {
   "cell_type": "code",
   "execution_count": 7,
   "id": "b270af7a-2f9b-4d14-9fd5-11d0f4f287da",
   "metadata": {},
   "outputs": [
    {
     "name": "stdin",
     "output_type": "stream",
     "text": [
      "ingrese su nombre: kk\n",
      "ingrese su edad: 4\n"
     ]
    },
    {
     "name": "stdout",
     "output_type": "stream",
     "text": [
      "Bogotá, 10 de febrero 2022\n",
      "\n",
      "\n",
      "A mi yo del futuro kk,te escribo con la edad de 4 años\n",
      "que tanto anhelabas: el negocio funcionando, tus conferencias y libros publicados;\n",
      "desearía que pudieras contarme qué fue lo que salió bien y qué fue lo que salió mal, lo que se pudo salvar y en lo que tuvimos suerte.\n",
      "A veces quisiera adelantar mi realidad y poder verte, poder verme a mí mismo diez años después.¿Qué habré conseguido? ¿Valió la pena?\n",
      "Quiero que sepas que no te defraudaré,que en este momento de mi vida haré todo lo posible por alcanzar mis metas; pelearé hasta donde me de fuerza,\n",
      "para que estés orgulloso de mí,\\para que en tu corazón sepas que estás donde tenías que estar porque fue el fruto del esfuerzo continuo.\n"
     ]
    }
   ],
   "source": [
    "txt=input(\"ingrese su nombre:\")\n",
    "age=input(\"ingrese su edad:\")\n",
    "\n",
    "\n",
    "\n",
    "\n",
    "\n",
    "print('''Bogotá, 10 de febrero 2022\n",
    "\n",
    "\n",
    "A mi yo del futuro {nombre},te escribo con la edad de {edad} años\n",
    "que tanto anhelabas: el negocio funcionando, tus conferencias y libros publicados;\n",
    "desearía que pudieras contarme qué fue lo que salió bien y qué fue lo que salió mal, lo que se pudo salvar y en lo que tuvimos suerte.\n",
    "A veces quisiera adelantar mi realidad y poder verte, poder verme a mí mismo diez años después.¿Qué habré conseguido? ¿Valió la pena?\n",
    "Quiero que sepas que no te defraudaré,que en este momento de mi vida haré todo lo posible por alcanzar mis metas; pelearé hasta donde me de fuerza,\n",
    "para que estés orgulloso de mí,\\para que en tu corazón sepas que estás donde tenías que estar porque fue el fruto del esfuerzo continuo.'''.format(nombre=txt,edad=age))\n",
    "\n"
   ]
  },
  {
   "cell_type": "code",
   "execution_count": null,
   "id": "24441d2d-202c-4dcd-b98d-3205c900bbfb",
   "metadata": {},
   "outputs": [],
   "source": []
  },
  {
   "cell_type": "code",
   "execution_count": null,
   "id": "a5553717-b10f-4c26-82b0-6797d6d55c43",
   "metadata": {},
   "outputs": [],
   "source": []
  }
 ],
 "metadata": {
  "kernelspec": {
   "display_name": "Python 3 (ipykernel)",
   "language": "python",
   "name": "python3"
  },
  "language_info": {
   "codemirror_mode": {
    "name": "ipython",
    "version": 3
   },
   "file_extension": ".py",
   "mimetype": "text/x-python",
   "name": "python",
   "nbconvert_exporter": "python",
   "pygments_lexer": "ipython3",
   "version": "3.9.7"
  }
 },
 "nbformat": 4,
 "nbformat_minor": 5
}
