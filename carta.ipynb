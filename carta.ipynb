{
 "cells": [
  {
   "cell_type": "code",
   "execution_count": 16,
   "id": "aa6ee4d9-12ba-433d-ba52-665736b29187",
   "metadata": {},
   "outputs": [],
   "source": [
    "from datetime import date\n",
    "from datetime import datetime\n",
    "from datetime import timedelta"
   ]
  },
  {
   "cell_type": "code",
   "execution_count": 65,
   "id": "b270af7a-2f9b-4d14-9fd5-11d0f4f287da",
   "metadata": {},
   "outputs": [
    {
     "name": "stdin",
     "output_type": "stream",
     "text": [
      "ingrese su nombre: joan sebastian martin mateus\n",
      "ingrese su edad: 19\n"
     ]
    },
    {
     "name": "stdout",
     "output_type": "stream",
     "text": [
      "2022-02-10\n",
      "2022-02-10 15:50:14.261506\n",
      "Bogotá, 2022-02-10\n",
      "A mi yo del futuro joan sebastian martin mateus,te escribo con la edad de 19 años\n",
      "Espero que cuando leas esta carta se haya cumplido tu proyecto de vida que tanto anhelabas: el negocio\n",
      "funcionando, tus conferencias y libros publicados;desearía que pudieras contarme qué fue lo que salió\n",
      "bien y qué fue lo que salió mal, lo que se pudo salvar y en lo que tuvimos suerte.A veces quisiera ade\n",
      "lantar mi realidad y poder verte, poder verme a mí mismo diez años después.¿Qué habré conseguido? ¿V\n",
      "alió la pena? Quiero que sepas que no te defraudaré,que en este momento de mi vida haré todo lo posi\n",
      "ble por alcanzar mis metas; pelearé hasta donde me de fuerza, para que estés orgulloso de mí.\n",
      "\n",
      "\n",
      "\n",
      "           joan sebastian martin mateus que tengas una buena vida y nos vemos en 29 años            \n"
     ]
    }
   ],
   "source": [
    "txt=input(\"ingrese su nombre:\")\n",
    "age=input(\"ingrese su edad:\")\n",
    "age=int(age)\n",
    "fecha=date.today()\n",
    "now=datetime.now()\n",
    "print(today)\n",
    "print(now)\n",
    "texto1=\"Bogotá, {hoy}\".format(hoy=today)\n",
    "print(texto1)\n",
    "texto2=(\"A mi yo del futuro {nombre},te escribo con la edad de {edad} años\").format(nombre=txt,edad=age)\n",
    "print(texto2)\n",
    "texto3=\"Espero que cuando leas esta carta se haya cumplido tu proyecto de vida que tanto anhelabas: el negocio funcionando, tus conferencias y libros publicados;desearía que pudieras contarme qué fue lo que salió bien y qué fue lo que salió mal, lo que se pudo salvar y en lo que tuvimos suerte.A veces quisiera adelantar mi realidad y poder verte, poder verme a mí mismo diez años después.¿Qué habré conseguido? ¿Valió la pena? Quiero que sepas que no te defraudaré,que en este momento de mi vida haré todo lo posible por alcanzar mis metas; pelearé hasta donde me de fuerza, para que estés orgulloso de mí.\"\n",
    "print(texto3[0:102])\n",
    "print(texto3[103:204])\n",
    "print(texto3[205:307])\n",
    "print(texto3[307:407])\n",
    "print(texto3[407:507])\n",
    "print(texto3[507:600])\n",
    "print(texto3[600:700])\n",
    "print(texto3[700:800])\n",
    "print(texto3[800:900])\n",
    "\n",
    "texto4=(\"{nombre} que tengas una buena vida y nos vemos en {edad} años\".format(nombre=txt,edad=age+10))\n",
    "texto4=\"{texto4:^100}\".format(texto4=texto4)\n",
    "print(texto4)"
   ]
  },
  {
   "cell_type": "code",
   "execution_count": null,
   "id": "da10d27c-5826-45e9-9606-cc9d09f63b38",
   "metadata": {},
   "outputs": [],
   "source": []
  }
 ],
 "metadata": {
  "kernelspec": {
   "display_name": "Python 3 (ipykernel)",
   "language": "python",
   "name": "python3"
  },
  "language_info": {
   "codemirror_mode": {
    "name": "ipython",
    "version": 3
   },
   "file_extension": ".py",
   "mimetype": "text/x-python",
   "name": "python",
   "nbconvert_exporter": "python",
   "pygments_lexer": "ipython3",
   "version": "3.9.7"
  }
 },
 "nbformat": 4,
 "nbformat_minor": 5
}
