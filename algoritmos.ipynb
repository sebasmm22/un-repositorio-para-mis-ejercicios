{
 "cells": [
  {
   "cell_type": "code",
   "execution_count": 1,
   "id": "5ff7d9fb",
   "metadata": {},
   "outputs": [
    {
     "name": "stdout",
     "output_type": "stream",
     "text": [
      "The Zen of Python, by Tim Peters\n",
      "\n",
      "Beautiful is better than ugly.\n",
      "Explicit is better than implicit.\n",
      "Simple is better than complex.\n",
      "Complex is better than complicated.\n",
      "Flat is better than nested.\n",
      "Sparse is better than dense.\n",
      "Readability counts.\n",
      "Special cases aren't special enough to break the rules.\n",
      "Although practicality beats purity.\n",
      "Errors should never pass silently.\n",
      "Unless explicitly silenced.\n",
      "In the face of ambiguity, refuse the temptation to guess.\n",
      "There should be one-- and preferably only one --obvious way to do it.\n",
      "Although that way may not be obvious at first unless you're Dutch.\n",
      "Now is better than never.\n",
      "Although never is often better than *right* now.\n",
      "If the implementation is hard to explain, it's a bad idea.\n",
      "If the implementation is easy to explain, it may be a good idea.\n",
      "Namespaces are one honking great idea -- let's do more of those!\n"
     ]
    }
   ],
   "source": [
    "import this"
   ]
  },
  {
   "cell_type": "markdown",
   "id": "cb808723",
   "metadata": {},
   "source": [
    "## variables \n",
    "Empezaremos hablando de algunas instrucciones elementales de Python, crearemos nuestros primeros programas, también llamdos scripts que posteriormente serán interpretados. Mencionaremos algunos tipos elementales de datos y los guardaremos en un espacio de memoría mediante variables para transformarlos y generar nueva información.\n"
   ]
  },
  {
   "cell_type": "code",
   "execution_count": 6,
   "id": "c8f172e1",
   "metadata": {},
   "outputs": [
    {
     "data": {
      "text/plain": [
       "8"
      ]
     },
     "execution_count": 6,
     "metadata": {},
     "output_type": "execute_result"
    }
   ],
   "source": [
    "## numeros\n",
    "\n",
    "8"
   ]
  },
  {
   "cell_type": "code",
   "execution_count": 7,
   "id": "87fddc1b",
   "metadata": {},
   "outputs": [
    {
     "data": {
      "text/plain": [
       "int"
      ]
     },
     "execution_count": 7,
     "metadata": {},
     "output_type": "execute_result"
    }
   ],
   "source": [
    "type(8)"
   ]
  },
  {
   "cell_type": "code",
   "execution_count": 8,
   "id": "e6ec4626",
   "metadata": {},
   "outputs": [
    {
     "data": {
      "text/plain": [
       "3.5"
      ]
     },
     "execution_count": 8,
     "metadata": {},
     "output_type": "execute_result"
    }
   ],
   "source": [
    "## decimales\n",
    "3.5"
   ]
  },
  {
   "cell_type": "code",
   "execution_count": 10,
   "id": "68658960",
   "metadata": {},
   "outputs": [
    {
     "data": {
      "text/plain": [
       "float"
      ]
     },
     "execution_count": 10,
     "metadata": {},
     "output_type": "execute_result"
    }
   ],
   "source": [
    "type(3.5)"
   ]
  },
  {
   "cell_type": "code",
   "execution_count": 11,
   "id": "e5964887",
   "metadata": {},
   "outputs": [
    {
     "data": {
      "text/plain": [
       "float"
      ]
     },
     "execution_count": 11,
     "metadata": {},
     "output_type": "execute_result"
    }
   ],
   "source": [
    "## recuerde que los negativos existen \n",
    "type (-2.5)"
   ]
  },
  {
   "cell_type": "code",
   "execution_count": 12,
   "id": "813da44b",
   "metadata": {},
   "outputs": [
    {
     "data": {
      "text/plain": [
       "int"
      ]
     },
     "execution_count": 12,
     "metadata": {},
     "output_type": "execute_result"
    }
   ],
   "source": [
    "type(-15)"
   ]
  },
  {
   "cell_type": "markdown",
   "id": "9a21695e",
   "metadata": {},
   "source": [
    "los numeros interactuan con nosostros de diferentes maneras, pero la mas importe es atraves de sus operaciones "
   ]
  },
  {
   "cell_type": "code",
   "execution_count": 13,
   "id": "ba2372ae",
   "metadata": {},
   "outputs": [
    {
     "data": {
      "text/plain": [
       "7.2"
      ]
     },
     "execution_count": 13,
     "metadata": {},
     "output_type": "execute_result"
    }
   ],
   "source": [
    "3.2+4"
   ]
  },
  {
   "cell_type": "code",
   "execution_count": 14,
   "id": "43e90a36",
   "metadata": {},
   "outputs": [
    {
     "data": {
      "text/plain": [
       "float"
      ]
     },
     "execution_count": 14,
     "metadata": {},
     "output_type": "execute_result"
    }
   ],
   "source": [
    "type(3.2+4)"
   ]
  },
  {
   "cell_type": "code",
   "execution_count": 15,
   "id": "15c2ddc0",
   "metadata": {},
   "outputs": [
    {
     "data": {
      "text/plain": [
       "-1"
      ]
     },
     "execution_count": 15,
     "metadata": {},
     "output_type": "execute_result"
    }
   ],
   "source": [
    "# resta \n",
    "1-2"
   ]
  },
  {
   "cell_type": "code",
   "execution_count": 16,
   "id": "10a2f9a2",
   "metadata": {},
   "outputs": [
    {
     "data": {
      "text/plain": [
       "20"
      ]
     },
     "execution_count": 16,
     "metadata": {},
     "output_type": "execute_result"
    }
   ],
   "source": [
    "# multiplicacion \n",
    "4*5"
   ]
  },
  {
   "cell_type": "code",
   "execution_count": 17,
   "id": "ee455836",
   "metadata": {},
   "outputs": [
    {
     "data": {
      "text/plain": [
       "2.0"
      ]
     },
     "execution_count": 17,
     "metadata": {},
     "output_type": "execute_result"
    }
   ],
   "source": [
    "# division \n",
    "6/3"
   ]
  },
  {
   "cell_type": "code",
   "execution_count": 18,
   "id": "2c26a322",
   "metadata": {},
   "outputs": [
    {
     "data": {
      "text/plain": [
       "0.5"
      ]
     },
     "execution_count": 18,
     "metadata": {},
     "output_type": "execute_result"
    }
   ],
   "source": [
    "1/2"
   ]
  },
  {
   "cell_type": "code",
   "execution_count": 19,
   "id": "9532daa6",
   "metadata": {},
   "outputs": [
    {
     "ename": "ZeroDivisionError",
     "evalue": "division by zero",
     "output_type": "error",
     "traceback": [
      "\u001b[1;31m---------------------------------------------------------------------------\u001b[0m",
      "\u001b[1;31mZeroDivisionError\u001b[0m                         Traceback (most recent call last)",
      "\u001b[1;32mC:\\Users\\SEBAST~1\\AppData\\Local\\Temp/ipykernel_17464/1580332654.py\u001b[0m in \u001b[0;36m<module>\u001b[1;34m\u001b[0m\n\u001b[1;32m----> 1\u001b[1;33m \u001b[1;36m4\u001b[0m\u001b[1;33m/\u001b[0m\u001b[1;36m0\u001b[0m\u001b[1;33m\u001b[0m\u001b[1;33m\u001b[0m\u001b[0m\n\u001b[0m",
      "\u001b[1;31mZeroDivisionError\u001b[0m: division by zero"
     ]
    }
   ],
   "source": [
    "4/0"
   ]
  },
  {
   "cell_type": "code",
   "execution_count": 22,
   "id": "782088f1",
   "metadata": {
    "scrolled": true
   },
   "outputs": [
    {
     "name": "stdout",
     "output_type": "stream",
     "text": [
      "9\n",
      "1\n",
      "20\n",
      "0.5\n",
      "2.0\n"
     ]
    }
   ],
   "source": [
    "print(4+5)\n",
    "print(3-2)\n",
    "print(4*5)\n",
    "print(1/2)\n",
    "print(4/2)"
   ]
  },
  {
   "cell_type": "code",
   "execution_count": 21,
   "id": "7beca206",
   "metadata": {
    "scrolled": true
   },
   "outputs": [
    {
     "ename": "NameError",
     "evalue": "name 'L' is not defined",
     "output_type": "error",
     "traceback": [
      "\u001b[1;31m---------------------------------------------------------------------------\u001b[0m",
      "\u001b[1;31mNameError\u001b[0m                                 Traceback (most recent call last)",
      "\u001b[1;32mC:\\Users\\SEBAST~1\\AppData\\Local\\Temp/ipykernel_17464/3155400470.py\u001b[0m in \u001b[0;36m<module>\u001b[1;34m\u001b[0m\n\u001b[1;32m----> 1\u001b[1;33m \u001b[0mL\u001b[0m\u001b[1;33m\u001b[0m\u001b[1;33m\u001b[0m\u001b[0m\n\u001b[0m",
      "\u001b[1;31mNameError\u001b[0m: name 'L' is not defined"
     ]
    }
   ],
   "source": []
  },
  {
   "cell_type": "code",
   "execution_count": 23,
   "id": "286ecfd9",
   "metadata": {},
   "outputs": [
    {
     "data": {
      "text/plain": [
       "8"
      ]
     },
     "execution_count": 23,
     "metadata": {},
     "output_type": "execute_result"
    }
   ],
   "source": [
    "#potencia \n",
    "2**3"
   ]
  },
  {
   "cell_type": "code",
   "execution_count": 24,
   "id": "c4bcf952",
   "metadata": {},
   "outputs": [
    {
     "data": {
      "text/plain": [
       "5.0"
      ]
     },
     "execution_count": 24,
     "metadata": {},
     "output_type": "execute_result"
    }
   ],
   "source": [
    "#raises (potencias de fraciones)\n",
    "25**(1/2)"
   ]
  },
  {
   "cell_type": "code",
   "execution_count": 25,
   "id": "68d02128",
   "metadata": {},
   "outputs": [
    {
     "data": {
      "text/plain": [
       "6"
      ]
     },
     "execution_count": 25,
     "metadata": {},
     "output_type": "execute_result"
    }
   ],
   "source": [
    "## divicion entera (cociente)\n",
    "20//3"
   ]
  },
  {
   "cell_type": "code",
   "execution_count": 26,
   "id": "9436e3d1",
   "metadata": {},
   "outputs": [
    {
     "data": {
      "text/plain": [
       "2"
      ]
     },
     "execution_count": 26,
     "metadata": {},
     "output_type": "execute_result"
    }
   ],
   "source": [
    "## divicion entera (residuo)\n",
    "20%3"
   ]
  },
  {
   "cell_type": "code",
   "execution_count": 27,
   "id": "b5651f37",
   "metadata": {},
   "outputs": [
    {
     "data": {
      "text/plain": [
       "30.0"
      ]
     },
     "execution_count": 27,
     "metadata": {},
     "output_type": "execute_result"
    }
   ],
   "source": [
    "## aqui calculamos el 15% de 200\n",
    "0.15*200"
   ]
  },
  {
   "cell_type": "code",
   "execution_count": 28,
   "id": "95b1c6da",
   "metadata": {},
   "outputs": [
    {
     "data": {
      "text/plain": [
       "36.0"
      ]
     },
     "execution_count": 28,
     "metadata": {},
     "output_type": "execute_result"
    }
   ],
   "source": [
    "0.45*80"
   ]
  },
  {
   "cell_type": "markdown",
   "id": "843070ee",
   "metadata": {},
   "source": [
    "### las cadenas de caracteres  o strings\n",
    "\n",
    "corresponde a las cadenas de texto para evitar confucuin con las diferentes funciones y/o bariables de python se almacenan entre comillas dobles o simples "
   ]
  },
  {
   "cell_type": "code",
   "execution_count": 29,
   "id": "f326ceb2",
   "metadata": {},
   "outputs": [
    {
     "data": {
      "text/plain": [
       "'hola externalistas'"
      ]
     },
     "execution_count": 29,
     "metadata": {},
     "output_type": "execute_result"
    }
   ],
   "source": [
    "\"hola externalistas\""
   ]
  },
  {
   "cell_type": "code",
   "execution_count": 30,
   "id": "d9ae5c1f",
   "metadata": {},
   "outputs": [
    {
     "name": "stdout",
     "output_type": "stream",
     "text": [
      "hola externadista\n"
     ]
    }
   ],
   "source": [
    "print(\"hola externadista\")"
   ]
  },
  {
   "cell_type": "code",
   "execution_count": 31,
   "id": "78c82e4e",
   "metadata": {},
   "outputs": [
    {
     "data": {
      "text/plain": [
       "'hola----externado'"
      ]
     },
     "execution_count": 31,
     "metadata": {},
     "output_type": "execute_result"
    }
   ],
   "source": [
    "# operaciones entre textos (suma-concatenacion)\n",
    "\n",
    "\"hola\"+\"----\"+\"externado\""
   ]
  },
  {
   "cell_type": "markdown",
   "id": "0a7edf52",
   "metadata": {},
   "source": [
    "## variables \n",
    "\n",
    "sirve para guardar informacion en python,trabajan de la siguiente manera:\n",
    "[nombre_variable]=[valor_de_la_variable]"
   ]
  },
  {
   "cell_type": "code",
   "execution_count": 1,
   "id": "c89088de",
   "metadata": {},
   "outputs": [],
   "source": [
    "x=20"
   ]
  },
  {
   "cell_type": "code",
   "execution_count": 2,
   "id": "6dcd6648",
   "metadata": {},
   "outputs": [
    {
     "data": {
      "text/plain": [
       "20"
      ]
     },
     "execution_count": 2,
     "metadata": {},
     "output_type": "execute_result"
    }
   ],
   "source": [
    "x"
   ]
  },
  {
   "cell_type": "code",
   "execution_count": 3,
   "id": "45e2acc5",
   "metadata": {},
   "outputs": [
    {
     "data": {
      "text/plain": [
       "22"
      ]
     },
     "execution_count": 3,
     "metadata": {},
     "output_type": "execute_result"
    }
   ],
   "source": [
    "x+2"
   ]
  },
  {
   "cell_type": "code",
   "execution_count": 4,
   "id": "db8b14c4",
   "metadata": {},
   "outputs": [
    {
     "data": {
      "text/plain": [
       "12"
      ]
     },
     "execution_count": 4,
     "metadata": {},
     "output_type": "execute_result"
    }
   ],
   "source": [
    "x-8"
   ]
  },
  {
   "cell_type": "code",
   "execution_count": 5,
   "id": "9e5524fe",
   "metadata": {},
   "outputs": [
    {
     "ename": "NameError",
     "evalue": "name 'hola' is not defined",
     "output_type": "error",
     "traceback": [
      "\u001b[1;31m---------------------------------------------------------------------------\u001b[0m",
      "\u001b[1;31mNameError\u001b[0m                                 Traceback (most recent call last)",
      "\u001b[1;32mC:\\Users\\SEBAST~1\\AppData\\Local\\Temp/ipykernel_3284/547337216.py\u001b[0m in \u001b[0;36m<module>\u001b[1;34m\u001b[0m\n\u001b[1;32m----> 1\u001b[1;33m \u001b[0mx\u001b[0m\u001b[1;33m+\u001b[0m\u001b[0mhola\u001b[0m\u001b[1;33m\u001b[0m\u001b[1;33m\u001b[0m\u001b[0m\n\u001b[0m",
      "\u001b[1;31mNameError\u001b[0m: name 'hola' is not defined"
     ]
    }
   ],
   "source": [
    "x+hola"
   ]
  },
  {
   "cell_type": "code",
   "execution_count": null,
   "id": "7a93d5c9",
   "metadata": {},
   "outputs": [],
   "source": []
  }
 ],
 "metadata": {
  "kernelspec": {
   "display_name": "Python 3 (ipykernel)",
   "language": "python",
   "name": "python3"
  },
  "language_info": {
   "codemirror_mode": {
    "name": "ipython",
    "version": 3
   },
   "file_extension": ".py",
   "mimetype": "text/x-python",
   "name": "python",
   "nbconvert_exporter": "python",
   "pygments_lexer": "ipython3",
   "version": "3.9.7"
  }
 },
 "nbformat": 4,
 "nbformat_minor": 5
}
